{
 "cells": [
  {
   "cell_type": "markdown",
   "metadata": {},
   "source": [
    "Adam Wachowicz\n",
    "\n",
    "SubMetric: Parking prices per neighborhood. \n",
    "Description: I will determine the price of parking per neighbor hood in order to determine the cheapest neighborhoods for parking. \n",
    "I may also determine which neighborhoods that are cheap in parking are close to other neighborhoods the people who live there might visit.\n",
    "This would allow us to assume what the average person might pay for parking if they live in that area.\n"
   ]
  },
  {
   "cell_type": "code",
   "execution_count": 1,
   "metadata": {},
   "outputs": [
    {
     "name": "stdout",
     "output_type": "stream",
     "text": [
<<<<<<< HEAD
      "                              zone                    rate\n",
      "156                419 - Brookline                   $1/hr\n",
      "1106               419 - Brookline                   $1/hr\n",
      "14           404 - Strip Disctrict                $1.50/hr\n",
      "850            363 - Beechview Lot                   $1/hr\n",
      "830            413 - Squirrel Hill                $1.50/hr\n",
      "149                421 - NorthSide                   $1/hr\n",
      "1160                  403 - Uptown                $1.50/hr\n",
      "331                421 - NorthSide                   $1/hr\n",
      "1113              402 - Downtown 2                   $4/hr\n",
      "517            413 - Squirrel Hill                $1.50/hr\n",
      "103            413 - Squirrel Hill                $1.50/hr\n",
      "632                408 - Oakland 2                   $3/hr\n",
      "1180              401 - Downtown 1                   $4/hr\n",
      "747   406 - Bloomfield (On-street)                   $1/hr\n",
      "311                409 - Oakland 3  $3($2.50 after 2pm)/hr\n"
=======
      "                              zone      rate\n",
      "522          404 - Strip Disctrict  $1.50/hr\n",
      "670                 415 - SS & SSW  $1.50/hr\n",
      "1016               408 - Oakland 2     $3/hr\n",
      "766   406 - Bloomfield (On-street)     $1/hr\n",
      "418                410 - Oakland 4  $2.50/hr\n",
      "849               401 - Downtown 1     $4/hr\n",
      "938                   403 - Uptown  $1.50/hr\n",
      "823                421 - NorthSide     $1/hr\n",
      "922          404 - Strip Disctrict  $1.50/hr\n",
      "133          404 - Strip Disctrict  $1.50/hr\n",
      "188                410 - Oakland 4  $1.50/hr\n",
      "1090           405 - Lawrenceville     $1/hr\n",
      "350                408 - Oakland 2     $3/hr\n",
      "419       369 - Main/Alexander Lot     $1/hr\n",
      "575               402 - Downtown 2     $4/hr\n"
>>>>>>> f7d53cfc51b3c4133cdc451dbc31ffa446fc64ac
     ]
    },
    {
     "data": {
      "text/plain": [
<<<<<<< HEAD
       "<matplotlib.axes._subplots.AxesSubplot at 0x7f1d40426700>"
=======
       "<matplotlib.axes._subplots.AxesSubplot at 0x7f99406c7190>"
>>>>>>> f7d53cfc51b3c4133cdc451dbc31ffa446fc64ac
      ]
     },
     "execution_count": 1,
     "metadata": {},
     "output_type": "execute_result"
    },
    {
     "data": {
      "image/png": "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\n",
      "text/plain": [
       "<Figure size 432x288 with 1 Axes>"
      ]
     },
     "metadata": {
      "needs_background": "light"
     },
     "output_type": "display_data"
    }
   ],
   "source": [
    "import pandas as pd\n",
    "\n",
    "park = pd.read_csv(\"parking.tsv\", sep=\"\\t\")\n",
    "mask = ~park['rate'].isnull()\n",
    "masked_park = park[mask]\n",
    "masked_park.iloc[0:5,0:]\n",
    "print(masked_park[['zone', 'rate']].sample(15))\n",
    "masked_park.plot(x ='zone', y='rate', kind = 'scatter')\t\n"
   ]
  },
  {
   "cell_type": "code",
   "execution_count": null,
   "metadata": {},
   "outputs": [],
   "source": []
  }
 ],
 "metadata": {
  "kernelspec": {
   "display_name": "Python 3",
   "language": "python",
   "name": "python3"
  },
  "language_info": {
   "codemirror_mode": {
    "name": "ipython",
    "version": 3
   },
   "file_extension": ".py",
   "mimetype": "text/x-python",
   "name": "python",
   "nbconvert_exporter": "python",
   "pygments_lexer": "ipython3",
   "version": "3.8.3"
  }
 },
 "nbformat": 4,
 "nbformat_minor": 4
}
