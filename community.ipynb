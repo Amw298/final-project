{
 "cells": [
  {
   "cell_type": "markdown",
   "metadata": {},
   "source": [
    "# Conclusion\n",
    "\n",
    "## * The best neighborhood to break into a car is : ***Downtown***\n",
    "\n",
    "## * The best neighborhood to burgle a house is : ***Squirrel Hill***\n",
    "\n",
    "## * The best neighborhood to mug someone is : ***Strip District***\n",
    "\n",
    "\n",
    "\n",
    "# What is the best neighborhood to steal in general? How do we determine that?\n",
    "We can sort in descending order and, then use the index as a metric. Then, We add up the indexs of the common neighborhoods, and the one with the lowest sum wins. \n",
    "\n",
    "# Best Neighborhood to rob is: The home of the *SMOKE WIZARD* \n",
    "![wizard](https://media.giphy.com/media/l2QEaAuDG7JqYLjJ6/giphy.gif)\n",
    "# SQUIRREL HILL\n",
    "\n",
    "## Runner ups:\n",
    "       * Northshore\n",
    "       * Strip District\n",
    "       * Southside/Southside Works"
   ]
  },
  {
   "cell_type": "code",
   "execution_count": null,
   "metadata": {},
   "outputs": [],
   "source": []
  }
 ],
 "metadata": {
  "kernelspec": {
   "display_name": "Python 3",
   "language": "python",
   "name": "python3"
  },
  "language_info": {
   "codemirror_mode": {
    "name": "ipython",
    "version": 3
   },
   "file_extension": ".py",
   "mimetype": "text/x-python",
   "name": "python",
   "nbconvert_exporter": "python",
   "pygments_lexer": "ipython3",
   "version": "3.8.3"
  }
 },
 "nbformat": 4,
 "nbformat_minor": 4
}
