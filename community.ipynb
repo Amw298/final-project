{
 "cells": [
  {
   "cell_type": "markdown",
   "metadata": {},
   "source": [
    "Introduction\n",
    "=====\n",
    "\n",
    "In this world, there are givers and takers... and some holders. When a person seeks a new place to live, they may look at a variety of topics. Maybe the median prices of houses, the average household income, or even the parking prices. However, not every person seeking a place is seeking it to live. Those takers I mentioned earlier often comes in the form of criminals and they might look at the exact same metrics, but with a different intention. \n",
    "\n",
    "![criminality](https://media.giphy.com/media/NFzNOIBiFYlZS/giphy.gif)\n",
    "\n",
    "**Quick Notes**\n",
    "1) Due to the nature of money and privacy, money data was harder to come by than expected. But, nonetheless, we found some interesting data sets to look at and apply to our argument. \n",
    "2) Why the money focus? Money runs the world, baby. \n",
    "3) Initally, we were planning to do something along the lines of just making money and living in a wealthy place, but soon, like many movie characters, turned to a life of crime. It's interesting and fun to look at life through the lens of someone you might not traditionally align with, so we kept at it. \n",
    "\n",
    "And shoutout to the first group from last week for the simliar idea. \n",
    "\n",
    "![shoutout](https://media.giphy.com/media/bKFbckT4NUjh7qBjNj/giphy.gif)"
   ]
  },
  {
   "cell_type": "markdown",
   "metadata": {},
   "source": [
    "# Conclusion\n",
    "\n",
    "## * The best neighborhood to break into a car is : ***Downtown***\n",
    "\n",
    "## * The best neighborhood to burgle a house is : ***Squirrel Hill***\n",
    "\n",
    "## * The best neighborhood to mug someone is : ***Strip District***\n",
    "\n",
    "\n",
    "\n",
    "# What is the best neighborhood to steal in general? How do we determine that?\n",
    "We can sort in descending order and, then use the index as a metric. Then, We add up the indexs of the common neighborhoods, and the one with the lowest sum wins. \n",
    "\n",
    "# Best Neighborhood to rob is: The home of the *SMOKE WIZARD* \n",
    "![wizard](https://media.giphy.com/media/l2QEaAuDG7JqYLjJ6/giphy.gif)\n",
    "# SQUIRREL HILL\n",
    "Score: 0 + 3 + 7 = 10\n",
    "\n",
    "## Runner ups:\n",
    "* Strip District \n",
    "    * Score: 0 + 8 + 5 = 13\n",
    "* Northshore \n",
    "    * Score: 4 + 13 + 11 = 28\n",
    "* Downtown \n",
    "    * Score 18 + 12 + 0 = 30"
   ]
  },
  {
   "cell_type": "code",
   "execution_count": null,
   "metadata": {},
   "outputs": [],
   "source": []
  }
 ],
 "metadata": {
  "kernelspec": {
   "display_name": "Python 3",
   "language": "python",
   "name": "python3"
  },
  "language_info": {
   "codemirror_mode": {
    "name": "ipython",
    "version": 3
   },
   "file_extension": ".py",
   "mimetype": "text/x-python",
   "name": "python",
   "nbconvert_exporter": "python",
   "pygments_lexer": "ipython3",
   "version": "3.8.3"
  }
 },
 "nbformat": 4,
 "nbformat_minor": 4
}
