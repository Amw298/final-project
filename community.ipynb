{
 "cells": [
  {
   "cell_type": "markdown",
   "metadata": {},
   "source": [
    "# Conclusion\n",
    "\n",
    "## * The best neighborhood to break into a car is : ***Downtown***\n",
    "\n",
    "## * The best neighborhood to burgle a house is : ***Squirrel Hill***\n",
    "\n",
    "## * The best neighborhood to mug someone is : ***Strip District***\n",
    "\n",
    "\n",
    "\n",
    "# What is the best neighborhood to steal in general? How do we determine that?\n",
    "We can sort in descending order and, then use the index as a metric. Then, We add up the indexs of the common neighborhoods, and the one with the lowest sum wins. \n",
    "\n",
    "# Best Neighborhood to rob is: The home of the *SMOKE WIZARD* \n",
    "![wizard](https://media.giphy.com/media/l2QEaAuDG7JqYLjJ6/giphy.gif)\n",
    "# SQUIRREL HILL\n",
    "Score: 0 + 3 + 7 = 10\n",
    "\n",
    "## Runner ups:\n",
    "* Strip District \n",
    "    *Score: 0 + 8 + 5 = 13\n",
    "* Northshore \n",
    "    * Score: 4 + 13 + 11 = 28\n",
    "* Downtown 18 + 12 + 0 = 30"
   ]
  },
  {
   "cell_type": "code",
   "execution_count": null,
   "metadata": {},
   "outputs": [],
   "source": []
  }
 ],
 "metadata": {
  "kernelspec": {
   "display_name": "Python 3",
   "language": "python",
   "name": "python3"
  },
  "language_info": {
   "codemirror_mode": {
    "name": "ipython",
    "version": 3
   },
   "file_extension": ".py",
   "mimetype": "text/x-python",
   "name": "python",
   "nbconvert_exporter": "python",
   "pygments_lexer": "ipython3",
   "version": "3.8.3"
  }
 },
 "nbformat": 4,
 "nbformat_minor": 4
}
